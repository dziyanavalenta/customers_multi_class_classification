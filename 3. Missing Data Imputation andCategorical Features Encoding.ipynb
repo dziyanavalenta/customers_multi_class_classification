{
 "cells": [
  {
   "cell_type": "markdown",
   "id": "e874772f-fe94-454a-bf9d-c9f0ed198684",
   "metadata": {},
   "source": [
    "# Get Data"
   ]
  },
  {
   "cell_type": "code",
   "execution_count": 167,
   "id": "f4aed625-7d58-4ed6-8f51-9f05e274f6ca",
   "metadata": {},
   "outputs": [],
   "source": [
    "import pandas as pd\n",
    "from sklearn.model_selection import train_test_split\n",
    "from sklearn.pipeline import Pipeline\n",
    "from sklearn.compose import ColumnTransformer\n",
    "from sklearn.impute import SimpleImputer\n",
    "from sklearn.preprocessing import OneHotEncoder, OrdinalEncoder\n",
    "\n",
    "# Load the dataset\n",
    "train_split = pd.read_csv('train_split.csv')\n",
    "# test_split = pd.read_csv('test_split.csv')\n",
    "\n",
    "# Define the target variable\n",
    "target = 'Segmentation'"
   ]
  },
  {
   "cell_type": "code",
   "execution_count": 149,
   "id": "790f1ce3-29ad-4ad4-82eb-4d9290df9057",
   "metadata": {},
   "outputs": [
    {
     "data": {
      "text/html": [
       "<div>\n",
       "<style scoped>\n",
       "    .dataframe tbody tr th:only-of-type {\n",
       "        vertical-align: middle;\n",
       "    }\n",
       "\n",
       "    .dataframe tbody tr th {\n",
       "        vertical-align: top;\n",
       "    }\n",
       "\n",
       "    .dataframe thead th {\n",
       "        text-align: right;\n",
       "    }\n",
       "</style>\n",
       "<table border=\"1\" class=\"dataframe\">\n",
       "  <thead>\n",
       "    <tr style=\"text-align: right;\">\n",
       "      <th></th>\n",
       "      <th>ID</th>\n",
       "      <th>Gender</th>\n",
       "      <th>Ever_Married</th>\n",
       "      <th>Age</th>\n",
       "      <th>Graduated</th>\n",
       "      <th>Profession</th>\n",
       "      <th>Work_Experience</th>\n",
       "      <th>Spending_Score</th>\n",
       "      <th>Family_Size</th>\n",
       "      <th>Var_1</th>\n",
       "      <th>Segmentation</th>\n",
       "    </tr>\n",
       "  </thead>\n",
       "  <tbody>\n",
       "    <tr>\n",
       "      <th>0</th>\n",
       "      <td>461859</td>\n",
       "      <td>Female</td>\n",
       "      <td>Yes</td>\n",
       "      <td>46</td>\n",
       "      <td>No</td>\n",
       "      <td>Artist</td>\n",
       "      <td>5.0</td>\n",
       "      <td>Low</td>\n",
       "      <td>5.0</td>\n",
       "      <td>Cat_6</td>\n",
       "      <td>C</td>\n",
       "    </tr>\n",
       "  </tbody>\n",
       "</table>\n",
       "</div>"
      ],
      "text/plain": [
       "       ID  Gender Ever_Married  Age Graduated Profession  Work_Experience  \\\n",
       "0  461859  Female          Yes   46        No     Artist              5.0   \n",
       "\n",
       "  Spending_Score  Family_Size  Var_1 Segmentation  \n",
       "0            Low          5.0  Cat_6            C  "
      ]
     },
     "execution_count": 149,
     "metadata": {},
     "output_type": "execute_result"
    }
   ],
   "source": [
    "train_split.head(1)"
   ]
  },
  {
   "cell_type": "markdown",
   "id": "ab8aa60e-0c2f-4dd6-8c1e-b81b7dd769fb",
   "metadata": {},
   "source": [
    "# Imputation and Encoding"
   ]
  },
  {
   "cell_type": "markdown",
   "id": "e1bd6e4d-b530-42a6-a5be-81ab1b82d0da",
   "metadata": {},
   "source": [
    "## Imputation"
   ]
  },
  {
   "cell_type": "code",
   "execution_count": 183,
   "id": "b3046901-57ff-4312-82ba-6a179ac3c920",
   "metadata": {},
   "outputs": [
    {
     "name": "stdout",
     "output_type": "stream",
     "text": [
      "Gender             0\n",
      "Ever_Married       0\n",
      "Age                0\n",
      "Graduated          0\n",
      "Profession         0\n",
      "Work_Experience    0\n",
      "Spending_Score     0\n",
      "Family_Size        0\n",
      "Var_1              0\n",
      "Segmentation       0\n",
      "dtype: int64\n"
     ]
    }
   ],
   "source": [
    "import pandas as pd\n",
    "\n",
    "# Sample data (for reference, replace with your actual data)\n",
    "# train_split = pd.read_csv('path_to_your_train_split_data.csv')\n",
    "\n",
    "# Redundant ID column removal\n",
    "if 'ID' in train_split.columns:\n",
    "    train_split.drop(columns=['ID'], inplace=True)\n",
    "\n",
    "# Compute imputation statistics\n",
    "imputation_stats = {}\n",
    "\n",
    "# Mode imputation for categorical columns\n",
    "mode_imputation_columns = ['Ever_Married', 'Graduated', 'Var_1']\n",
    "for column in mode_imputation_columns:\n",
    "    imputation_stats[column] = train_split[column].mode()[0]\n",
    "    train_split[column].fillna(imputation_stats[column], inplace=True)\n",
    "\n",
    "# Constant value imputation for Profession\n",
    "constant_value_imputation_columns = {'Profession': 'Unknown'}\n",
    "for column, value in constant_value_imputation_columns.items():\n",
    "    imputation_stats[column] = value\n",
    "    train_split[column].fillna(value, inplace=True)\n",
    "\n",
    "# Median imputation for numerical columns\n",
    "median_imputation_columns = ['Work_Experience', 'Family_Size']\n",
    "for column in median_imputation_columns:\n",
    "    imputation_stats[column] = train_split[column].median()\n",
    "    train_split[column].fillna(imputation_stats[column], inplace=True)\n",
    "\n",
    "# Confirming imputation\n",
    "print(train_split.isnull().sum())"
   ]
  },
  {
   "cell_type": "code",
   "execution_count": 185,
   "id": "45f6fda1-8046-4b3c-b2bf-fd45ea19f33c",
   "metadata": {},
   "outputs": [
    {
     "name": "stdout",
     "output_type": "stream",
     "text": [
      "imputation_stats saved\n"
     ]
    }
   ],
   "source": [
    "# Save imputation statistics\n",
    "imputation_stats_df = pd.DataFrame(list(imputation_stats.items()), columns=['Column', 'Value'])\n",
    "imputation_stats_df.to_csv('imputation_stats.csv', index=False)\n",
    "print('imputation_stats saved')"
   ]
  },
  {
   "cell_type": "markdown",
   "id": "697c8b17-ad1a-4c82-a894-87617eeb4cd6",
   "metadata": {},
   "source": [
    "## Categorical Columns Encoding"
   ]
  },
  {
   "cell_type": "code",
   "execution_count": 188,
   "id": "0b256533-1b59-40be-86c1-551796e938d1",
   "metadata": {},
   "outputs": [
    {
     "name": "stderr",
     "output_type": "stream",
     "text": [
      "C:\\Users\\dziya\\AppData\\Local\\Temp\\ipykernel_13744\\121229495.py:11: FutureWarning: DataFrame.applymap has been deprecated. Use DataFrame.map instead.\n",
      "  train_split[boolean_columns] = train_split[boolean_columns].applymap(int)\n"
     ]
    }
   ],
   "source": [
    "# One-hot encoding for categorical variables\n",
    "one_hot_columns = ['Gender', 'Profession', 'Ever_Married', 'Graduated', 'Var_1']\n",
    "train_split = pd.get_dummies(train_split, columns=one_hot_columns, drop_first=True)\n",
    "\n",
    "# Ordinal encoding for Spending_Score\n",
    "spending_score_mapping = {'Average': 2, 'High': 1, 'Low': 3}\n",
    "train_split['Spending_Score'] = train_split['Spending_Score'].map(spending_score_mapping)\n",
    "\n",
    "# Convert boolean columns to 0 and 1\n",
    "boolean_columns = [col for col in train_split.columns if train_split[col].dtype == 'bool']\n",
    "train_split[boolean_columns] = train_split[boolean_columns].applymap(int)"
   ]
  },
  {
   "cell_type": "code",
   "execution_count": 158,
   "id": "6de2e502-c23d-4ac6-9639-1309820baa5e",
   "metadata": {},
   "outputs": [
    {
     "data": {
      "text/html": [
       "<div>\n",
       "<style scoped>\n",
       "    .dataframe tbody tr th:only-of-type {\n",
       "        vertical-align: middle;\n",
       "    }\n",
       "\n",
       "    .dataframe tbody tr th {\n",
       "        vertical-align: top;\n",
       "    }\n",
       "\n",
       "    .dataframe thead th {\n",
       "        text-align: right;\n",
       "    }\n",
       "</style>\n",
       "<table border=\"1\" class=\"dataframe\">\n",
       "  <thead>\n",
       "    <tr style=\"text-align: right;\">\n",
       "      <th></th>\n",
       "      <th>Age</th>\n",
       "      <th>Work_Experience</th>\n",
       "      <th>Spending_Score</th>\n",
       "      <th>Family_Size</th>\n",
       "      <th>Segmentation</th>\n",
       "      <th>Gender_Male</th>\n",
       "      <th>Profession_Doctor</th>\n",
       "      <th>Profession_Engineer</th>\n",
       "      <th>Profession_Entertainment</th>\n",
       "      <th>Profession_Executive</th>\n",
       "      <th>...</th>\n",
       "      <th>Profession_Marketing</th>\n",
       "      <th>Profession_Unknown</th>\n",
       "      <th>Ever_Married_Yes</th>\n",
       "      <th>Graduated_Yes</th>\n",
       "      <th>Var_1_Cat_2</th>\n",
       "      <th>Var_1_Cat_3</th>\n",
       "      <th>Var_1_Cat_4</th>\n",
       "      <th>Var_1_Cat_5</th>\n",
       "      <th>Var_1_Cat_6</th>\n",
       "      <th>Var_1_Cat_7</th>\n",
       "    </tr>\n",
       "  </thead>\n",
       "  <tbody>\n",
       "    <tr>\n",
       "      <th>0</th>\n",
       "      <td>46</td>\n",
       "      <td>5.0</td>\n",
       "      <td>3</td>\n",
       "      <td>5.0</td>\n",
       "      <td>C</td>\n",
       "      <td>0</td>\n",
       "      <td>0</td>\n",
       "      <td>0</td>\n",
       "      <td>0</td>\n",
       "      <td>0</td>\n",
       "      <td>...</td>\n",
       "      <td>0</td>\n",
       "      <td>0</td>\n",
       "      <td>1</td>\n",
       "      <td>0</td>\n",
       "      <td>0</td>\n",
       "      <td>0</td>\n",
       "      <td>0</td>\n",
       "      <td>0</td>\n",
       "      <td>1</td>\n",
       "      <td>0</td>\n",
       "    </tr>\n",
       "    <tr>\n",
       "      <th>1</th>\n",
       "      <td>48</td>\n",
       "      <td>1.0</td>\n",
       "      <td>3</td>\n",
       "      <td>3.0</td>\n",
       "      <td>C</td>\n",
       "      <td>0</td>\n",
       "      <td>0</td>\n",
       "      <td>0</td>\n",
       "      <td>1</td>\n",
       "      <td>0</td>\n",
       "      <td>...</td>\n",
       "      <td>0</td>\n",
       "      <td>0</td>\n",
       "      <td>0</td>\n",
       "      <td>1</td>\n",
       "      <td>0</td>\n",
       "      <td>0</td>\n",
       "      <td>1</td>\n",
       "      <td>0</td>\n",
       "      <td>0</td>\n",
       "      <td>0</td>\n",
       "    </tr>\n",
       "    <tr>\n",
       "      <th>2</th>\n",
       "      <td>52</td>\n",
       "      <td>0.0</td>\n",
       "      <td>2</td>\n",
       "      <td>2.0</td>\n",
       "      <td>C</td>\n",
       "      <td>0</td>\n",
       "      <td>1</td>\n",
       "      <td>0</td>\n",
       "      <td>0</td>\n",
       "      <td>0</td>\n",
       "      <td>...</td>\n",
       "      <td>0</td>\n",
       "      <td>0</td>\n",
       "      <td>1</td>\n",
       "      <td>1</td>\n",
       "      <td>0</td>\n",
       "      <td>0</td>\n",
       "      <td>0</td>\n",
       "      <td>0</td>\n",
       "      <td>1</td>\n",
       "      <td>0</td>\n",
       "    </tr>\n",
       "    <tr>\n",
       "      <th>3</th>\n",
       "      <td>23</td>\n",
       "      <td>0.0</td>\n",
       "      <td>3</td>\n",
       "      <td>4.0</td>\n",
       "      <td>C</td>\n",
       "      <td>0</td>\n",
       "      <td>1</td>\n",
       "      <td>0</td>\n",
       "      <td>0</td>\n",
       "      <td>0</td>\n",
       "      <td>...</td>\n",
       "      <td>0</td>\n",
       "      <td>0</td>\n",
       "      <td>0</td>\n",
       "      <td>0</td>\n",
       "      <td>0</td>\n",
       "      <td>0</td>\n",
       "      <td>0</td>\n",
       "      <td>0</td>\n",
       "      <td>1</td>\n",
       "      <td>0</td>\n",
       "    </tr>\n",
       "    <tr>\n",
       "      <th>4</th>\n",
       "      <td>60</td>\n",
       "      <td>1.0</td>\n",
       "      <td>2</td>\n",
       "      <td>5.0</td>\n",
       "      <td>B</td>\n",
       "      <td>1</td>\n",
       "      <td>0</td>\n",
       "      <td>0</td>\n",
       "      <td>1</td>\n",
       "      <td>0</td>\n",
       "      <td>...</td>\n",
       "      <td>0</td>\n",
       "      <td>0</td>\n",
       "      <td>1</td>\n",
       "      <td>1</td>\n",
       "      <td>0</td>\n",
       "      <td>1</td>\n",
       "      <td>0</td>\n",
       "      <td>0</td>\n",
       "      <td>0</td>\n",
       "      <td>0</td>\n",
       "    </tr>\n",
       "  </tbody>\n",
       "</table>\n",
       "<p>5 rows × 23 columns</p>\n",
       "</div>"
      ],
      "text/plain": [
       "   Age  Work_Experience  Spending_Score  Family_Size Segmentation  \\\n",
       "0   46              5.0               3          5.0            C   \n",
       "1   48              1.0               3          3.0            C   \n",
       "2   52              0.0               2          2.0            C   \n",
       "3   23              0.0               3          4.0            C   \n",
       "4   60              1.0               2          5.0            B   \n",
       "\n",
       "   Gender_Male  Profession_Doctor  Profession_Engineer  \\\n",
       "0            0                  0                    0   \n",
       "1            0                  0                    0   \n",
       "2            0                  1                    0   \n",
       "3            0                  1                    0   \n",
       "4            1                  0                    0   \n",
       "\n",
       "   Profession_Entertainment  Profession_Executive  ...  Profession_Marketing  \\\n",
       "0                         0                     0  ...                     0   \n",
       "1                         1                     0  ...                     0   \n",
       "2                         0                     0  ...                     0   \n",
       "3                         0                     0  ...                     0   \n",
       "4                         1                     0  ...                     0   \n",
       "\n",
       "   Profession_Unknown  Ever_Married_Yes  Graduated_Yes  Var_1_Cat_2  \\\n",
       "0                   0                 1              0            0   \n",
       "1                   0                 0              1            0   \n",
       "2                   0                 1              1            0   \n",
       "3                   0                 0              0            0   \n",
       "4                   0                 1              1            0   \n",
       "\n",
       "   Var_1_Cat_3  Var_1_Cat_4  Var_1_Cat_5  Var_1_Cat_6  Var_1_Cat_7  \n",
       "0            0            0            0            1            0  \n",
       "1            0            1            0            0            0  \n",
       "2            0            0            0            1            0  \n",
       "3            0            0            0            1            0  \n",
       "4            1            0            0            0            0  \n",
       "\n",
       "[5 rows x 23 columns]"
      ]
     },
     "execution_count": 158,
     "metadata": {},
     "output_type": "execute_result"
    }
   ],
   "source": [
    "train_split.head()"
   ]
  },
  {
   "cell_type": "markdown",
   "id": "929c7e18-0d7a-45f7-9b53-8f494fcb77fb",
   "metadata": {},
   "source": [
    "## Target Encoding"
   ]
  },
  {
   "cell_type": "markdown",
   "id": "1f03a142-aa02-44dc-985e-db0031283fc8",
   "metadata": {},
   "source": [
    "\"Segmentation\" represents multiple classes without an ordinal relationship, one-hot encoding can be preferred."
   ]
  },
  {
   "cell_type": "code",
   "execution_count": 162,
   "id": "e1703a51-df3b-4beb-b2b1-b33828f1166d",
   "metadata": {},
   "outputs": [
    {
     "name": "stdout",
     "output_type": "stream",
     "text": [
      "   Segmentation_A  Segmentation_B  Segmentation_C  Segmentation_D\n",
      "0               0               0               1               0\n",
      "1               0               0               1               0\n",
      "2               0               0               1               0\n",
      "3               0               0               1               0\n",
      "4               0               1               0               0\n"
     ]
    },
    {
     "name": "stderr",
     "output_type": "stream",
     "text": [
      "C:\\Users\\dziya\\AppData\\Local\\Temp\\ipykernel_13744\\2364830379.py:6: FutureWarning: DataFrame.applymap has been deprecated. Use DataFrame.map instead.\n",
      "  train_split[boolean_columns] = train_split[boolean_columns].applymap(int)\n"
     ]
    }
   ],
   "source": [
    "# Apply one-hot encoding to the target column for multi-class classification\n",
    "train_split = pd.get_dummies(train_split, columns=['Segmentation'], drop_first=False)\n",
    "\n",
    "# Convert boolean columns to 0 and 1\n",
    "boolean_columns = [col for col in train_split.columns if train_split[col].dtype == 'bool']\n",
    "train_split[boolean_columns] = train_split[boolean_columns].applymap(int)\n",
    "\n",
    "# Verify the one-hot encoded target variable columns\n",
    "print(train_split[['Segmentation_A', 'Segmentation_B', 'Segmentation_C', 'Segmentation_D']].head())\n"
   ]
  },
  {
   "cell_type": "code",
   "execution_count": 164,
   "id": "4caa04bf-b8c6-4b8e-9ce0-ee849a013e80",
   "metadata": {},
   "outputs": [
    {
     "name": "stdout",
     "output_type": "stream",
     "text": [
      "File exported\n"
     ]
    }
   ],
   "source": [
    "train_split.to_csv('train_split_processed.csv', index=False)\n",
    "print('File exported')"
   ]
  },
  {
   "cell_type": "code",
   "execution_count": null,
   "id": "40358a44-aa81-4b1f-a75b-b67da4ba7746",
   "metadata": {},
   "outputs": [],
   "source": []
  }
 ],
 "metadata": {
  "kernelspec": {
   "display_name": "Python 3 (ipykernel)",
   "language": "python",
   "name": "python3"
  },
  "language_info": {
   "codemirror_mode": {
    "name": "ipython",
    "version": 3
   },
   "file_extension": ".py",
   "mimetype": "text/x-python",
   "name": "python",
   "nbconvert_exporter": "python",
   "pygments_lexer": "ipython3",
   "version": "3.11.7"
  }
 },
 "nbformat": 4,
 "nbformat_minor": 5
}
